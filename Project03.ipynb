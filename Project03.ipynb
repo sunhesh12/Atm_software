{
 "cells": [
  {
   "cell_type": "code",
   "execution_count": null,
   "id": "43b12afb",
   "metadata": {},
   "outputs": [],
   "source": [
    "current_blance=10000\n",
    "\n",
    "\n",
    "\n",
    "def cash_blance():\n",
    "    print(\"Account blance is: {}\".format(current_blance))\n",
    "    \n",
    "def cash_deposit(amount):\n",
    "    global current_blance\n",
    "    current_blance+=amount\n",
    "    print(current_blance)\n",
    "    \n",
    "def cash_withdraw(amount):\n",
    "    global current_blance\n",
    "    \n",
    "    if current_blance-amount<1000:\n",
    "        print(\"Your blance is insfficient\")\n",
    "        chas_blance()\n",
    "    elif amount>100000:\n",
    "        print(\"Maximum withdrawal amount is Rs 100000\")\n",
    "        cash_blance()\n",
    "    else:\n",
    "        current_blance-=amount\n",
    "        cash_blance()\n",
    "        \n",
    "def check():\n",
    "    global flag\n",
    "    print(\"Do you want to continue? (y/n)\")\n",
    "    do = input()\n",
    "    if do==\"n\":\n",
    "        print(\"Have a nice day!\")\n",
    "        flag=False\n",
    "    \n",
    "flag=True\n",
    "while flag:\n",
    "    print(\"Select what you want to do\\nAccount blance : Type 1\\nCash withdraw  : Type 2\\nCash deposit   : Type 3 \")\n",
    "    choice =input()\n",
    "    if choice ==\"1\":\n",
    "        cash_blance()\n",
    "        check()\n",
    "    elif choice==\"2\":\n",
    "        print(\"Enter your amount you need to withdraw\")\n",
    "        value=float(input(\"Amount: \"))\n",
    "        cash_withdraw(value)\n",
    "        check()\n",
    "    elif choice==\"3\":\n",
    "        print(\"Enter your amount you need to deposit\")\n",
    "        value=float(input(\"Amount: \"))\n",
    "        cash_deposit(value)\n",
    "        check()"
   ]
  },
  {
   "cell_type": "code",
   "execution_count": null,
   "id": "b2466992",
   "metadata": {},
   "outputs": [],
   "source": []
  }
 ],
 "metadata": {
  "kernelspec": {
   "display_name": "Python 3 (ipykernel)",
   "language": "python",
   "name": "python3"
  },
  "language_info": {
   "codemirror_mode": {
    "name": "ipython",
    "version": 3
   },
   "file_extension": ".py",
   "mimetype": "text/x-python",
   "name": "python",
   "nbconvert_exporter": "python",
   "pygments_lexer": "ipython3",
   "version": "3.9.12"
  }
 },
 "nbformat": 4,
 "nbformat_minor": 5
}
